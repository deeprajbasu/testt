{
  "nbformat": 4,
  "nbformat_minor": 0,
  "metadata": {
    "colab": {
      "provenance": []
    },
    "kernelspec": {
      "name": "python3",
      "display_name": "Python 3"
    },
    "language_info": {
      "name": "python"
    }
  },
  "cells": [
    {
      "cell_type": "markdown",
      "source": [
        "\n",
        "# Read the kmers from the file kmers.txt and using the Eulerian path method, reconstruct the nucleotide sequence."
      ],
      "metadata": {
        "id": "W9eqGrpKiWfI"
      }
    },
    {
      "cell_type": "code",
      "execution_count": 11,
      "metadata": {
        "id": "v5jMKJYUd0QK"
      },
      "outputs": [],
      "source": [
        "from collections import defaultdict, deque\n",
        "\n",
        "def build_de_bruijn_graph(kmers):\n",
        "    graph = defaultdict(list)\n",
        "    in_degree = defaultdict(int)\n",
        "    out_degree = defaultdict(int)\n",
        "\n",
        "    for kmer in kmers:\n",
        "        prefix, suffix = kmer[:-1], kmer[1:]\n",
        "        graph[prefix].append(suffix)\n",
        "        out_degree[prefix] += 1\n",
        "        in_degree[suffix] += 1\n",
        "\n",
        "    return graph, in_degree, out_degree\n",
        "\n",
        "def find_start_node(graph, in_degree, out_degree):\n",
        "    start_node = None\n",
        "\n",
        "    for node in graph:\n",
        "        if out_degree[node] > in_degree[node]:\n",
        "            return node  # Start node has more outgoing edges\n",
        "        if start_node is None:\n",
        "            start_node = node  # Default start node\n",
        "\n",
        "    return start_node\n",
        "\n",
        "def find_eulerian_path(graph, start_node):\n",
        "    stack = [start_node]\n",
        "    path = deque()\n",
        "\n",
        "    while stack:\n",
        "        node = stack[-1]\n",
        "        if graph[node]:\n",
        "            next_node = graph[node].pop()\n",
        "            stack.append(next_node)\n",
        "        else:\n",
        "            path.appendleft(stack.pop())\n",
        "\n",
        "    return path\n",
        "\n",
        "def reconstruct_sequence(kmers):\n",
        "    graph, in_degree, out_degree = build_de_bruijn_graph(kmers)\n",
        "    start_node = find_start_node(graph, in_degree, out_degree)\n",
        "    eulerian_path = list(find_eulerian_path(graph, start_node))  # Convert deque to list\n",
        "\n",
        "    # Reconstruct sequence from Eulerian path\n",
        "    sequence = eulerian_path[0]\n",
        "    for node in eulerian_path[1:]:\n",
        "        sequence += node[-1]\n",
        "\n",
        "    return sequence\n",
        "\n",
        "\n",
        "# Read k-mers from file\n",
        "def read_kmers_from_file(filename):\n",
        "    with open(filename, \"r\") as file:\n",
        "        kmers = file.read().strip().split(\"\\n\")\n",
        "    return kmers\n",
        "\n"
      ]
    },
    {
      "cell_type": "markdown",
      "source": [
        "# reconstruct the nucleotide sequence."
      ],
      "metadata": {
        "id": "5EPPdYB6ica7"
      }
    },
    {
      "cell_type": "code",
      "source": [
        "# Load k-mers from data.txt\n",
        "kmers = read_kmers_from_file(\"/content/data51..txt\")\n",
        "\n",
        "# Reconstruct the nucleotide sequence\n",
        "sequence = reconstruct_sequence(kmers)\n",
        "print(\"Reconstructed Sequence:\", sequence)\n"
      ],
      "metadata": {
        "id": "VnMLRPtAd3Kn",
        "colab": {
          "base_uri": "https://localhost:8080/"
        },
        "outputId": "d8d8dd84-a31b-4cf8-ef04-46789648c02b"
      },
      "execution_count": 12,
      "outputs": [
        {
          "output_type": "stream",
          "name": "stdout",
          "text": [
            "Reconstructed Sequence: ATCGGTACCGGATTAAAATTACAGCCTAAGGTTGTGCCTGTTAACAGGTTATACGGATGCGGTACCGTGTGCTGCGAAGTAGCACAACTAGTTCGGCCGAATGGGTAAGGCGGTACAACTCTCTCATGCGATTCGTCGCCTGGAGTATCAGCGACCAGACCCTTGACTTATACTTAAAACCGGTGTTGATCGCCAAAAGCCGTCATCCCCACTGCAGGTAGGTTAATATGTGGCACACCATGTAAGAGCACGTCCAGTATGCCGGCACCTTCGGGTGAGAAATCCGCATCTAGCGGAGAGCCCGTAGAGTGTGCGGTTGTGACCATATATTTCGCGTCGGAACTATTGCATCGATGTCTTAGGGACACCTCGTGGTGAGTAGACGGACCTGATCCAGTTGTTGTG\n"
          ]
        }
      ]
    },
    {
      "cell_type": "code",
      "source": [],
      "metadata": {
        "id": "KmXIRXIziVLi"
      },
      "execution_count": null,
      "outputs": []
    },
    {
      "cell_type": "code",
      "source": [],
      "metadata": {
        "id": "izecLi1Qgh-K"
      },
      "execution_count": null,
      "outputs": []
    }
  ]
}
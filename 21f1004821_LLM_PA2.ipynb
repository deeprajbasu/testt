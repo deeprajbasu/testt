{
  "nbformat": 4,
  "nbformat_minor": 0,
  "metadata": {
    "colab": {
      "provenance": []
    },
    "kernelspec": {
      "name": "python3",
      "display_name": "Python 3"
    },
    "language_info": {
      "name": "python"
    }
  },
  "cells": [
    {
      "cell_type": "markdown",
      "source": [
        "* The objective of this assignments is to build the **Decoder** part of the Transformer architecture.\n",
        "* We will be using the **PyTorch** framework to implement the following components\n",
        "  * Decoder Layer that contains\n",
        "    * Multi-Head Masked Attention (MHMA) Module\n",
        "    * Multi-Head Cross Attention (MHMA) Module\n",
        "    * Position-wise Feed Forward Neural Network\n",
        "\n",
        "  * Implement CLM\n",
        "\n",
        "* **DO NOT** USE Built-in **TRANSFORMER LAYERS** as it affects the reproducibility.\n",
        "\n",
        "* You will be given with a configuration file that contains information on various hyperparameters such as embedding dimension, vocabulary size,number heads and so on\n",
        "\n",
        "* Use ReLU activation function and Stochastic Gradient Descent optimizer\n",
        "* Here are a list of helpful Pytorch functions (does not mean you have to use all of them) for this subsequent assignments\n",
        "  * [torch.matmul](https://pytorch.org/docs/stable/generated/torch.matmul.html#torch-matmul)\n",
        "  * [torch.bmm](https://pytorch.org/docs/stable/generated/torch.bmm.html)\n",
        "  * torch.swapdims\n",
        "  * torch.unsqueeze\n",
        "  * torch.squeeze\n",
        "  * torch.argmax\n",
        "  * [torch.Tensor.view](https://pytorch.org/docs/stable/generated/torch.Tensor.view.html)\n",
        "  * [torch.nn.Embedding](https://pytorch.org/docs/stable/generated/torch.nn.Embedding.html)\n",
        "  * [torch.nn.Parameter](https://pytorch.org/docs/stable/generated/torch.nn.parameter.Parameter.html)\n",
        "  * torch.nn.Linear\n",
        "  * torch.nn.LayerNorm\n",
        "  * torch.nn.ModuleList\n",
        "  * torch.nn.Sequential\n",
        "  * [torch.nn.CrossEntropyLoss](https://pytorch.org/docs/stable/generated/torch.nn.CrossEntropyLoss.html)\n",
        "  \n",
        "* Important: Do not set any global seeds.\n",
        "\n",
        "* Helpful resources to get started with\n",
        "\n",
        " * [Andrej Karpathys Nano GPT](https://github.com/karpathy/nanoGPT)\n",
        " * [PyTorch Source code of Transformer Layer](https://pytorch.org/docs/stable/generated/torch.nn.Transformer.html)\n",
        "\n"
      ],
      "metadata": {
        "id": "SLKgMhMp8wvg"
      }
    },
    {
      "cell_type": "code",
      "execution_count": 257,
      "metadata": {
        "id": "es7WIeXF3nrV"
      },
      "outputs": [],
      "source": [
        "import torch\n",
        "from torch import Tensor\n",
        "\n",
        "import torch.nn as nn\n",
        "from torch.nn import Parameter\n",
        "import torch.nn.functional as F\n",
        "from torch.nn.functional import one_hot\n",
        "\n",
        "import torch.optim as optim\n",
        "\n",
        "from  pprint import pprint\n",
        "from yaml import safe_load\n",
        "import copy\n",
        "import requests\n",
        "from io import BytesIO"
      ]
    },
    {
      "cell_type": "code",
      "source": [
        "#do not edit this cell\n",
        "config_url = \"https://raw.githubusercontent.com/Arunprakash-A/LLM-from-scratch-PyTorch/main/config_files/dec_config.yml\"\n",
        "response = requests.get(config_url)\n",
        "config = response.content.decode(\"utf-8\")\n",
        "config = safe_load(config)\n",
        "pprint(config)"
      ],
      "metadata": {
        "id": "de2_k13-3_gS",
        "colab": {
          "base_uri": "https://localhost:8080/"
        },
        "outputId": "73e7f52a-0a5c-47eb-e446-f2bf8c77013e"
      },
      "execution_count": 258,
      "outputs": [
        {
          "output_type": "stream",
          "name": "stdout",
          "text": [
            "{'input': {'batch_size': 10, 'embed_dim': 32, 'seq_len': 8, 'vocab_size': 12},\n",
            " 'model': {'d_ff': 128,\n",
            "           'd_model': 32,\n",
            "           'dk': 4,\n",
            "           'dq': 4,\n",
            "           'dv': 4,\n",
            "           'n_heads': 8,\n",
            "           'n_layers': 6}}\n"
          ]
        }
      ]
    },
    {
      "cell_type": "code",
      "source": [
        "vocab_size = config['input']['vocab_size']\n",
        "batch_size = config['input']['batch_size']\n",
        "seq_len = config['input']['seq_len']\n",
        "embed_dim = config['input']['embed_dim']\n",
        "dmodel = embed_dim\n",
        "dq = torch.tensor(config['model']['dq'])\n",
        "dk = torch.tensor(config['model']['dk'])\n",
        "dv = torch.tensor(config['model']['dv'])\n",
        "heads = torch.tensor(config['model']['n_heads'])\n",
        "d_ff = config['model']['d_ff']"
      ],
      "metadata": {
        "id": "kS7dciwb53M1"
      },
      "execution_count": 259,
      "outputs": []
    },
    {
      "cell_type": "markdown",
      "source": [
        "# Input tokens"
      ],
      "metadata": {
        "id": "6uLkQpFA5-Gs"
      }
    },
    {
      "cell_type": "markdown",
      "source": [
        "* Generate a raw_input ids (without any special tokens appended to it)\n",
        "\n",
        "* Since we will be using this as label after adding the special  \\<start\\> token, we use the variable name \"label_ids\"\n",
        "\n",
        "* Keep the size of the `label_ids=(bs,seq_len-1)` as we insert a special token ids in the next step"
      ],
      "metadata": {
        "id": "PfUUsznGp9Ll"
      }
    },
    {
      "cell_type": "code",
      "source": [
        "# do not edit this cell\n",
        "data_url = 'https://github.com/Arunprakash-A/LLM-from-scratch-PyTorch/raw/main/config_files/w2_input_tokens'\n",
        "r = requests.get(data_url)\n",
        "label_ids = torch.load(BytesIO(r.content))"
      ],
      "metadata": {
        "id": "I_D8hvdH5_1E"
      },
      "execution_count": 260,
      "outputs": []
    },
    {
      "cell_type": "markdown",
      "source": [
        "* Let the first token_id be be a special `[start]` token (mapped to integer 0)\n",
        "* If label_ids=$\\begin{bmatrix}1&2\\\\3&4 \\end{bmatrix}$, then we modify it as $\\begin{bmatrix}0&1&2\\\\0&3&4 \\end{bmatrix}$"
      ],
      "metadata": {
        "id": "nxmtUf5j6JJ9"
      }
    },
    {
      "cell_type": "code",
      "source": [
        "label_ids"
      ],
      "metadata": {
        "colab": {
          "base_uri": "https://localhost:8080/"
        },
        "id": "cLrhirDmhTof",
        "outputId": "c448c391-5d9b-4596-ad53-7a8f167d7710"
      },
      "execution_count": 261,
      "outputs": [
        {
          "output_type": "execute_result",
          "data": {
            "text/plain": [
              "tensor([[ 7,  8,  7,  7,  9,  2,  6],\n",
              "        [10,  1, 10,  5,  3,  6,  8],\n",
              "        [ 3,  4,  8,  2, 10, 10, 10],\n",
              "        [ 4, 10,  1,  3,  4,  9,  7],\n",
              "        [ 8,  4,  7,  3,  8, 10,  5],\n",
              "        [ 9,  1,  8,  5,  9,  9, 10],\n",
              "        [ 7,  3,  8,  2,  5,  1,  5],\n",
              "        [ 3,  3,  2,  1,  4,  1,  1],\n",
              "        [10,  9,  9,  9,  6,  9,  2],\n",
              "        [ 3,  6,  6,  3,  5,  4,  5]])"
            ]
          },
          "metadata": {},
          "execution_count": 261
        }
      ]
    },
    {
      "cell_type": "code",
      "source": [
        "token_ids = torch.cat((torch.zeros(label_ids.size(0), 1, dtype=label_ids.dtype), label_ids), dim=1) #the first column of token_ids should be zeros and the rest of the columns come from label_ids\n",
        "\n",
        "token_ids"
      ],
      "metadata": {
        "id": "ADbTWVVC6fu-",
        "colab": {
          "base_uri": "https://localhost:8080/"
        },
        "outputId": "679426d8-a76f-4b59-a1a6-64ede11b004e"
      },
      "execution_count": 262,
      "outputs": [
        {
          "output_type": "execute_result",
          "data": {
            "text/plain": [
              "tensor([[ 0,  7,  8,  7,  7,  9,  2,  6],\n",
              "        [ 0, 10,  1, 10,  5,  3,  6,  8],\n",
              "        [ 0,  3,  4,  8,  2, 10, 10, 10],\n",
              "        [ 0,  4, 10,  1,  3,  4,  9,  7],\n",
              "        [ 0,  8,  4,  7,  3,  8, 10,  5],\n",
              "        [ 0,  9,  1,  8,  5,  9,  9, 10],\n",
              "        [ 0,  7,  3,  8,  2,  5,  1,  5],\n",
              "        [ 0,  3,  3,  2,  1,  4,  1,  1],\n",
              "        [ 0, 10,  9,  9,  9,  6,  9,  2],\n",
              "        [ 0,  3,  6,  6,  3,  5,  4,  5]])"
            ]
          },
          "metadata": {},
          "execution_count": 262
        }
      ]
    },
    {
      "cell_type": "markdown",
      "source": [
        "# Implement the following components of a decoder layer\n",
        "\n",
        " * Multi-head Masked Attention (MHMA)\n",
        " * Multi-head Cross Attention (MHCA)\n",
        " * Postion-wise FFN\n",
        "\n",
        "* Randomly initialize the parameters using normal distribution with the following seed values\n",
        "  * $W_Q:$(seed=43)\n",
        "  * $W_K:$(seed=44)\n",
        "  * $W_V:$(seed=45)\n",
        "  * $W_O:$(seed=46)\n",
        "\n",
        "* Remember that, Multi-head cross atention takes two represnetation. One is the encoder output and the other one is the output from masked attetnion sub-layer.\n",
        "\n",
        "* However, in this assignment, we will fix it to a random matrix."
      ],
      "metadata": {
        "id": "nrDQbLIF334F"
      }
    },
    {
      "cell_type": "code",
      "source": [
        "class MHCA(nn.Module):\n",
        "\n",
        "  def __init__(self,dmodel,dq,dk,dv,heads):\n",
        "    super(MHCA,self).__init__()\n",
        "    self.dmodel = dmodel\n",
        "    self.dq = dq\n",
        "    self.dk = dk\n",
        "    self.dv = dv\n",
        "    self.heads = heads\n",
        "\n",
        "\n",
        "    self.W_q = nn.Linear(dmodel, dq * heads, bias=b)\n",
        "    self.W_k = nn.Linear(dmodel, dk * heads, bias=b)\n",
        "    self.W_v = nn.Linear(dmodel, dv * heads, bias=b)\n",
        "    self.W_o = nn.Linear(dv * heads, dmodel, bias=b)\n",
        "\n",
        "    torch.manual_seed(43)\n",
        "    nn.init.normal_(self.W_q.weight)\n",
        "    if b:\n",
        "        nn.init.normal_(self.W_q.bias)\n",
        "\n",
        "    torch.manual_seed(44)\n",
        "    nn.init.normal_(self.W_k.weight)\n",
        "    if b:\n",
        "        nn.init.normal_(self.W_k.bias)\n",
        "\n",
        "    torch.manual_seed(45)\n",
        "    nn.init.normal_(self.W_v.weight)\n",
        "    if b:\n",
        "        nn.init.normal_(self.W_v.bias)\n",
        "\n",
        "    torch.manual_seed(46)\n",
        "    nn.init.normal_(self.W_o.weight)\n",
        "    if b:\n",
        "        nn.init.normal_(self.W_o.bias)\n",
        "\n",
        "\n",
        "\n",
        "     # your method definitions go here (if you want to)\n",
        "\n",
        "  def forward(self,Q_input,H=None):\n",
        "    BS, T_dec, _ = Q_input.size()\n",
        "\n",
        "    BS, T_enc, _ = H.size()\n",
        "    Q = self.W_q(Q_input)\n",
        "    K = self.W_k(H)\n",
        "    V = self.W_v(H)\n",
        "\n",
        "\n",
        "    Q = Q.view(BS, T_dec, self.heads, self.dq).transpose(1, 2)\n",
        "    K = K.view(BS, T_enc, self.heads, self.dk).transpose(1, 2)\n",
        "    V = V.view(BS, T_enc, self.heads, self.dv).transpose(1, 2)\n",
        "\n",
        "\n",
        "    # attention\n",
        "    scores = torch.matmul(Q, K.transpose(-2,-1)) / (self.dk ** 0.5)\n",
        "\n",
        "    # print(scores.shape,'scores shape')\n",
        "    attn_weights = F.softmax(scores, dim=-1)\n",
        "    # print(attn_weights.shape,'attention weights')\n",
        "    context = torch.matmul(attn_weights, V)\n",
        "    # print(context.shape,'context shape')\n",
        "\n",
        "    # concat heads\n",
        "    context = context.transpose(1, 2).contiguous().view(BS, T_dec, self.dv*self.heads)\n",
        "\n",
        "    out = self.W_o(context)\n",
        "\n",
        "\n",
        "    return out"
      ],
      "metadata": {
        "id": "2URLKYHT8i1x"
      },
      "execution_count": 263,
      "outputs": []
    },
    {
      "cell_type": "markdown",
      "source": [
        "* By default, `mask=None`. Therefore, create and apply the mask while computing the attention scores\n"
      ],
      "metadata": {
        "id": "3axiToa8AiTA"
      }
    },
    {
      "cell_type": "code",
      "source": [
        "b=False\n",
        "class MHMA(nn.Module):\n",
        "\n",
        "  def __init__(self,dmodel,dq,dk,dv,heads,mask=None):\n",
        "    super(MHMA,self).__init__()\n",
        "    # your code goes here\n",
        "    self.dmodel = dmodel\n",
        "    self.dq = dq\n",
        "    self.dk = dk\n",
        "    self.dv = dv\n",
        "    self.heads = heads\n",
        "\n",
        "\n",
        "    self.W_q = nn.Linear(dmodel, dq * heads, bias=b)\n",
        "    self.W_k = nn.Linear(dmodel, dk * heads, bias=b)\n",
        "    self.W_v = nn.Linear(dmodel, dv * heads, bias=b)\n",
        "    self.W_o = nn.Linear(dv * heads, dmodel, bias=b)\n",
        "\n",
        "    torch.manual_seed(43)\n",
        "    nn.init.normal_(self.W_q.weight)\n",
        "    if b:\n",
        "        nn.init.normal_(self.W_q.bias)\n",
        "\n",
        "    torch.manual_seed(44)\n",
        "    nn.init.normal_(self.W_k.weight)\n",
        "    if b:\n",
        "        nn.init.normal_(self.W_k.bias)\n",
        "\n",
        "    torch.manual_seed(45)\n",
        "    nn.init.normal_(self.W_v.weight)\n",
        "    if b:\n",
        "        nn.init.normal_(self.W_v.bias)\n",
        "\n",
        "    torch.manual_seed(46)\n",
        "    nn.init.normal_(self.W_o.weight)\n",
        "    if b:\n",
        "        nn.init.normal_(self.W_o.bias)\n",
        "\n",
        "\n",
        "\n",
        "  def forward(self,H=None):\n",
        "    # implement forward method\n",
        "\n",
        "    BS, T, _ = H.size()\n",
        "    Q = self.W_q(H)\n",
        "    K = self.W_k(H)\n",
        "    V = self.W_v(H)\n",
        "    Q = Q.view(BS, T, self.heads, self.dq).transpose(1, 2)\n",
        "    K = K.view(BS, T, self.heads, self.dk).transpose(1, 2)\n",
        "    V = V.view(BS, T, self.heads, self.dv).transpose(1, 2)\n",
        "\n",
        "\n",
        "\n",
        "    scores = torch.matmul(Q, K.transpose(-2,-1)) / (self.dk ** 0.5)\n",
        "    mask = torch.tril(torch.ones(T, T, device=H.device)).unsqueeze(0).unsqueeze(0)\n",
        "    scores = scores.masked_fill(mask == 0, float('-inf'))\n",
        "\n",
        "    # print(scores.shape,'scores shape')\n",
        "    attn_weights = F.softmax(scores, dim=-1)\n",
        "    # print(attn_weights.shape,'attention weights')\n",
        "    context = torch.matmul(attn_weights, V)\n",
        "    # print(context.shape,'context shape')\n",
        "\n",
        "    # concat heads\n",
        "    context = context.transpose(1, 2).contiguous().view(BS, T, self.dv*self.heads)\n",
        "\n",
        "    # output\n",
        "    out = self.W_o(context)\n",
        "\n",
        "    return out"
      ],
      "metadata": {
        "id": "fkRKwCzY_uOA"
      },
      "execution_count": 264,
      "outputs": []
    },
    {
      "cell_type": "markdown",
      "source": [
        "* Implement the FFN and OutputLayer modules (same as the one you implemented for encoder)"
      ],
      "metadata": {
        "id": "HkWY1xuzbV1Z"
      }
    },
    {
      "cell_type": "code",
      "source": [
        "class FFN(nn.Module):\n",
        "  def __init__(self,dmodel,d_ff):\n",
        "    super(FFN,self).__init__()\n",
        "\n",
        "    self.fc1 = nn.Linear(dmodel, d_ff, bias=b)\n",
        "    self.fc2 = nn.Linear(d_ff, dmodel, bias=b)\n",
        "\n",
        "    torch.manual_seed(47)\n",
        "    nn.init.normal_(self.fc1.weight)\n",
        "    if b:\n",
        "        nn.init.normal_(self.fc1.bias)\n",
        "\n",
        "    torch.manual_seed(48)\n",
        "    nn.init.normal_(self.fc2.weight)\n",
        "    if b:\n",
        "        nn.init.normal_(self.fc2.bias)\n",
        "\n",
        "  def forward(self,x):\n",
        "    out = self.fc1(x)\n",
        "    out = F.relu(out)\n",
        "    out = self.fc2(out)\n",
        "    return out"
      ],
      "metadata": {
        "id": "WriFqQWHAGZm"
      },
      "execution_count": 265,
      "outputs": []
    },
    {
      "cell_type": "code",
      "source": [
        "class OutputLayer(nn.Module):\n",
        "\n",
        "  def __init__(self,dmodel,vocab_size):\n",
        "    super(OutputLayer,self).__init__()\n",
        "    self.proj = nn.Linear(dmodel, vocab_size,bias=b)\n",
        "\n",
        "\n",
        "\n",
        "    torch.manual_seed(49)\n",
        "    nn.init.normal_(self.proj.weight)\n",
        "    if b:\n",
        "      nn.init.normal_(self.proj.bias)\n",
        "\n",
        "  def forward(self,representations):\n",
        "    out = self.proj(representations)\n",
        "    return out"
      ],
      "metadata": {
        "id": "sZ8mE5xQbzh2"
      },
      "execution_count": 266,
      "outputs": []
    },
    {
      "cell_type": "markdown",
      "source": [
        "* Implement the final decoder layer."
      ],
      "metadata": {
        "id": "htg7Hx-Kb1_h"
      }
    },
    {
      "cell_type": "code",
      "source": [
        "class DecoderLayer(nn.Module):\n",
        "\n",
        "  def __init__(self,dmodel,dq,dk,dv,d_ff,heads,mask=None):\n",
        "    super(DecoderLayer,self).__init__()\n",
        "    self.mhma = MHMA(dmodel,dq,dk,dv,heads,mask=None)\n",
        "    self.mhca = MHCA(dmodel,dq,dk,dv,heads)\n",
        "    self.layer_norm_mhma = torch.nn.LayerNorm(dmodel)\n",
        "    self.layer_norm_mhca = torch.nn.LayerNorm(dmodel)\n",
        "    self.layer_norm_ffn = torch.nn.LayerNorm(dmodel)\n",
        "    self.ffn = FFN(dmodel,d_ff)\n",
        "\n",
        "  def forward(self,x,enc_rep):\n",
        "    # print(x.shape,'encoder input')\n",
        "    attn_out = self.mhma(x)\n",
        "    # print('mha output created')\n",
        "\n",
        "\n",
        "    x = self.layer_norm_mhma(x + attn_out)\n",
        "\n",
        "\n",
        "    c_attn_out = self.mhca(x,enc_rep)\n",
        "    x = self.layer_norm_mhca(x + c_attn_out)\n",
        "\n",
        "\n",
        "    # ffn out with layernorm\n",
        "    ffn_out = self.ffn(x)\n",
        "    out = self.layer_norm_ffn(x + ffn_out)\n",
        "\n",
        "    return out"
      ],
      "metadata": {
        "id": "y3KrOhIj_1YF"
      },
      "execution_count": 267,
      "outputs": []
    },
    {
      "cell_type": "markdown",
      "source": [
        "* Create an embedding layer that takes in token_ids and return embeddings for the token_ids\n",
        "\n",
        " * Use seed value: 70"
      ],
      "metadata": {
        "id": "0on1cUNEcEt5"
      }
    },
    {
      "cell_type": "code",
      "source": [
        "class Embed(nn.Module):\n",
        "\n",
        "  def __init__(self,vocab_size,embed_dim):\n",
        "    super(Embed,self).__init__()\n",
        "\n",
        "    self.embed= nn.Embedding(vocab_size, embed_dim)\n",
        "    torch.manual_seed(70)\n",
        "    nn.init.normal_(self.embed.weight)\n",
        "\n",
        "\n",
        "  def forward(self,x):\n",
        "    out = self.embed(x)\n",
        "    return out"
      ],
      "metadata": {
        "id": "0a--wC-_Tf_W"
      },
      "execution_count": 268,
      "outputs": []
    },
    {
      "cell_type": "markdown",
      "source": [
        "# Decoder\n",
        "\n",
        " * Implement the decoder that has `num_layers` decoder layers"
      ],
      "metadata": {
        "id": "Xr3nTQP5d2zl"
      }
    },
    {
      "cell_type": "code",
      "source": [
        "class Decoder(nn.Module):\n",
        "\n",
        "  def __init__(self,vocab_size,dmodel,dq,dk,dv,d_ff,heads,mask,num_layers=1):\n",
        "    super(Decoder,self).__init__()\n",
        "    self.embed_lookup =  Embed(vocab_size, dmodel)\n",
        "    self.dec_layers = nn.ModuleList([\n",
        "      DecoderLayer(dmodel, dq, dk, dv, d_ff, heads, mask=mask)\n",
        "      for _ in range(num_layers)\n",
        "    ])\n",
        "    self.out = OutputLayer(dmodel, vocab_size,)\n",
        "\n",
        "  def forward(self,enc_rep,tar_token_ids):\n",
        "\n",
        "\n",
        "    x = self.embed_lookup(tar_token_ids)\n",
        "\n",
        "\n",
        "    for layer in self.dec_layers:\n",
        "      # print('aaa')\n",
        "      x = layer(enc_rep,x )\n",
        "\n",
        "    out = self.out(x)\n",
        "\n",
        "    return out"
      ],
      "metadata": {
        "id": "SYRrxMkpBzAe"
      },
      "execution_count": 269,
      "outputs": []
    },
    {
      "cell_type": "markdown",
      "source": [
        "* Representation from encoder\n",
        "\n",
        " * Since all the decoder layers require the representation from the encoder to compute cross attention, we are going to feed in the random values (Note, it does not require gradient during training)"
      ],
      "metadata": {
        "id": "lyZYR7NkCYh_"
      }
    },
    {
      "cell_type": "code",
      "source": [
        "# do not edit this\n",
        "enc_rep = torch.randn(size=(batch_size,seq_len,embed_dim),generator=torch.random.manual_seed(10))"
      ],
      "metadata": {
        "id": "-rOysYMjB-af"
      },
      "execution_count": 270,
      "outputs": []
    },
    {
      "cell_type": "code",
      "source": [
        "enc_rep.shape"
      ],
      "metadata": {
        "colab": {
          "base_uri": "https://localhost:8080/"
        },
        "id": "00flXQtwrDtI",
        "outputId": "31818346-08eb-439f-fb6f-30515b8c571d"
      },
      "execution_count": 271,
      "outputs": [
        {
          "output_type": "execute_result",
          "data": {
            "text/plain": [
              "torch.Size([10, 8, 32])"
            ]
          },
          "metadata": {},
          "execution_count": 271
        }
      ]
    },
    {
      "cell_type": "markdown",
      "source": [
        "# Instantiate the model"
      ],
      "metadata": {
        "id": "tpLKJVXnGbbf"
      }
    },
    {
      "cell_type": "code",
      "source": [
        "model = Decoder(vocab_size,dmodel,dq,dk,dv,d_ff,heads,mask=None)"
      ],
      "metadata": {
        "id": "aeG9CjI_GcsP"
      },
      "execution_count": 272,
      "outputs": []
    },
    {
      "cell_type": "code",
      "source": [
        "criterion = nn.CrossEntropyLoss()\n",
        "optimizer = optim.SGD(model.parameters(), lr=0.01)"
      ],
      "metadata": {
        "id": "aebVyW-9LhcP"
      },
      "execution_count": 273,
      "outputs": []
    },
    {
      "cell_type": "code",
      "source": [
        "def train(enc_rep,tar_token_ids,label_ids,epochs=1000):\n",
        "  loss_trace = []\n",
        "  for epoch in range(epochs):\n",
        "    out = model(enc_rep,tar_token_ids)\n",
        "    loss =F.cross_entropy(out.view(-1, out.size(-1)), tar_token_ids.view(-1))\n",
        "    loss_trace.append(loss)\n",
        "    loss.backward()\n",
        "\n",
        "    #update parameters\n",
        "    optimizer.step()\n",
        "    optimizer.zero_grad()\n",
        "\n",
        "  return loss_trace[-1],model"
      ],
      "metadata": {
        "id": "8npNWRJ7tWRc"
      },
      "execution_count": 274,
      "outputs": []
    },
    {
      "cell_type": "markdown",
      "source": [
        "* Train the model for 1000 epochs"
      ],
      "metadata": {
        "id": "lXLdvUVKgU3h"
      }
    },
    {
      "cell_type": "code",
      "source": [
        "loss,model = train(enc_rep,token_ids,label_ids,1000)"
      ],
      "metadata": {
        "id": "svrd7-yHtpme",
        "collapsed": true
      },
      "execution_count": 275,
      "outputs": []
    },
    {
      "cell_type": "code",
      "source": [
        "with torch.inference_mode():\n",
        "  predictions = torch.argmax(model(enc_rep,token_ids),dim=-1)"
      ],
      "metadata": {
        "id": "M6PLInPW0JIF"
      },
      "execution_count": 276,
      "outputs": []
    },
    {
      "cell_type": "markdown",
      "source": [
        "* The loss will be around 0.17 after 1000 epochs"
      ],
      "metadata": {
        "id": "TsA-osXehjEK"
      }
    },
    {
      "cell_type": "code",
      "source": [
        "print('LOSS : ',float(loss))"
      ],
      "metadata": {
        "colab": {
          "base_uri": "https://localhost:8080/"
        },
        "id": "6DmWRzbCTxRi",
        "outputId": "3c08a6a6-15d1-4d21-e46d-1d190f472a9c"
      },
      "execution_count": 277,
      "outputs": [
        {
          "output_type": "stream",
          "name": "stdout",
          "text": [
            "LOSS :  0.12169989198446274\n"
          ]
        }
      ]
    },
    {
      "cell_type": "code",
      "source": [
        "# number of correct predictions\n",
        "print('Number of correct predictions :',int(torch.count_nonzero(label_ids==predictions[:,1:])))"
      ],
      "metadata": {
        "id": "hbnfyb5thxCP",
        "colab": {
          "base_uri": "https://localhost:8080/"
        },
        "outputId": "c6bf0f00-4feb-460d-f160-6e8ab780cefc"
      },
      "execution_count": 278,
      "outputs": [
        {
          "output_type": "stream",
          "name": "stdout",
          "text": [
            "Number of correct predictions : 70\n"
          ]
        }
      ]
    },
    {
      "cell_type": "markdown",
      "source": [
        "* THe number of correct predictions is close to 66"
      ],
      "metadata": {
        "id": "UXTPr2pd6tfo"
      }
    }
  ]
}
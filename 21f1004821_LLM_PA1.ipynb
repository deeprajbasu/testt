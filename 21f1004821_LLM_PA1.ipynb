{
  "nbformat": 4,
  "nbformat_minor": 0,
  "metadata": {
    "colab": {
      "provenance": []
    },
    "kernelspec": {
      "name": "python3",
      "display_name": "Python 3"
    },
    "language_info": {
      "name": "python"
    }
  },
  "cells": [
    {
      "cell_type": "markdown",
      "source": [
        "* In this assignment you will be building the **Encoder** part of the Transformer architecture.\n",
        "* You will be using the **PyTorch** framework to implement the following components\n",
        "  * Encoder Layer that contains\n",
        "    * Multi-Head Attention (MHA) Module\n",
        "    * Position-wise Feed Forward Neural Network\n",
        "\n",
        "  * Output layer that takes the encoder output and predicts the token_ids.\n",
        "\n",
        "  * Optionally, study whether adding positional information is helpful.\n",
        "  \n",
        "* **DO NOT** USE Built-in **TRANSFORMER LAYERS** as it affects the reproducibility.\n",
        "\n",
        "* You will be given with a configuration file that contains information on various hyperparameters such as embedding dimension, vocabulary size,number heads and so on\n",
        "\n",
        "* Use ReLU activation function and Stochastic Gradient Descent optimizer\n",
        "* Here are a list of helpful Pytorch functions (does not mean you have to use all of them) for this and subsequent assignments\n",
        "  * [torch.matmul](https://pytorch.org/docs/stable/generated/torch.matmul.html#torch-matmul)\n",
        "  * [torch.bmm](https://pytorch.org/docs/stable/generated/torch.bmm.html)\n",
        "  * torch.swapdims\n",
        "  * torch.unsqueeze\n",
        "  * torch.squeeze\n",
        "  * torch.argmax\n",
        "  * [torch.Tensor.view](https://pytorch.org/docs/stable/generated/torch.Tensor.view.html)\n",
        "  * [torch.nn.Embedding](https://pytorch.org/docs/stable/generated/torch.nn.Embedding.html)\n",
        "  * [torch.nn.Parameter](https://pytorch.org/docs/stable/generated/torch.nn.parameter.Parameter.html)\n",
        "  * torch.nn.Linear\n",
        "  * torch.nn.LayerNorm\n",
        "  * torch.nn.ModuleList\n",
        "  * torch.nn.Sequential\n",
        "  * [torch.nn.CrossEntropyLoss](https://pytorch.org/docs/stable/generated/torch.nn.CrossEntropyLoss.html)\n",
        "  \n",
        "* Important: **Do not** set any global seeds.\n",
        "\n",
        "* Helpful resources to get started with\n",
        "\n",
        " * [Annotated Transformers](https://nlp.seas.harvard.edu/annotated-transformer/)\n",
        " * [PyTorch Source code of Transformer Layer](https://pytorch.org/docs/stable/generated/torch.nn.Transformer.html)\n",
        "\n"
      ],
      "metadata": {
        "id": "3BzlkwtBUSLZ"
      }
    },
    {
      "cell_type": "markdown",
      "source": [
        "# Import"
      ],
      "metadata": {
        "id": "xp0X3WMuWEYZ"
      }
    },
    {
      "cell_type": "code",
      "source": [
        "import torch\n",
        "from torch import Tensor\n",
        "\n",
        "import torch.nn as nn\n",
        "from torch.nn import Parameter\n",
        "import torch.nn.functional as F\n",
        "from torch.nn.functional import one_hot\n",
        "\n",
        "import torch.optim as optim\n",
        "\n",
        "from  pprint import pprint\n",
        "from yaml import safe_load\n",
        "import requests\n",
        "from io import BytesIO"
      ],
      "metadata": {
        "id": "OR-MhDgVWMYE"
      },
      "execution_count": 242,
      "outputs": []
    },
    {
      "cell_type": "markdown",
      "source": [
        "# Configuration"
      ],
      "metadata": {
        "id": "WbHXnQ2WWlHO"
      }
    },
    {
      "cell_type": "code",
      "source": [
        "#do not edit this cell\n",
        "config_url = \"https://raw.githubusercontent.com/Arunprakash-A/LLM-from-scratch-PyTorch/main/config_files/enc_config.yml\"\n",
        "response = requests.get(config_url)\n",
        "config = response.content.decode(\"utf-8\")\n",
        "config = safe_load(config)\n",
        "pprint(config)"
      ],
      "metadata": {
        "colab": {
          "base_uri": "https://localhost:8080/"
        },
        "id": "0GaFbEI1WnBD",
        "outputId": "b2398db9-0a58-4aba-e461-aba1478c7795"
      },
      "execution_count": 243,
      "outputs": [
        {
          "output_type": "stream",
          "name": "stdout",
          "text": [
            "{'input': {'batch_size': 10, 'embed_dim': 32, 'seq_len': 8, 'vocab_size': 10},\n",
            " 'model': {'d_ff': 128,\n",
            "           'd_model': 32,\n",
            "           'dk': 4,\n",
            "           'dq': 4,\n",
            "           'dv': 4,\n",
            "           'n_heads': 8,\n",
            "           'n_layers': 6}}\n"
          ]
        }
      ]
    },
    {
      "cell_type": "code",
      "source": [
        "#do not edit this cell\n",
        "vocab_size = config['input']['vocab_size']\n",
        "batch_size = config['input']['batch_size']\n",
        "seq_len = config['input']['seq_len']\n",
        "embed_dim = config['input']['embed_dim']"
      ],
      "metadata": {
        "id": "G5I_iBP7XZod"
      },
      "execution_count": 244,
      "outputs": []
    },
    {
      "cell_type": "markdown",
      "source": [
        "* Here, you are directly given with the token ids\n",
        "* Assume that length of all sequences are equal to the context length (T) (so that we do not need to bother about padding shorter sequences while batching)"
      ],
      "metadata": {
        "id": "iHswIewIX5aE"
      }
    },
    {
      "cell_type": "code",
      "source": [
        "# do not edit this cell\n",
        "data_url = 'https://github.com/Arunprakash-A/LLM-from-scratch-PyTorch/raw/main/config_files/w1_input_tokens'\n",
        "r = requests.get(data_url)\n",
        "token_ids = torch.load(BytesIO(r.content))\n",
        "print(token_ids)"
      ],
      "metadata": {
        "colab": {
          "base_uri": "https://localhost:8080/"
        },
        "id": "jaawBcu3a3jX",
        "outputId": "bd94345c-2073-4933-c8fc-92e555f89a7a"
      },
      "execution_count": 245,
      "outputs": [
        {
          "output_type": "stream",
          "name": "stdout",
          "text": [
            "tensor([[5, 7, 5, 6, 3, 8, 7, 5],\n",
            "        [7, 2, 7, 1, 2, 1, 1, 7],\n",
            "        [1, 0, 0, 3, 6, 3, 0, 8],\n",
            "        [5, 0, 2, 8, 6, 5, 5, 3],\n",
            "        [3, 5, 4, 8, 5, 0, 7, 3],\n",
            "        [8, 6, 7, 4, 4, 4, 0, 1],\n",
            "        [5, 8, 1, 0, 1, 1, 0, 3],\n",
            "        [1, 7, 8, 8, 0, 5, 3, 7],\n",
            "        [7, 7, 1, 4, 5, 6, 7, 0],\n",
            "        [1, 7, 2, 8, 3, 0, 0, 4]])\n"
          ]
        }
      ]
    },
    {
      "cell_type": "markdown",
      "source": [
        "# Building the sub-layers"
      ],
      "metadata": {
        "id": "ZhMRsvQvZh6v"
      }
    },
    {
      "cell_type": "code",
      "source": [
        "# do not edit this cell\n",
        "dq = torch.tensor(config['model']['dq'])\n",
        "dk = torch.tensor(config['model']['dk'])\n",
        "dv = torch.tensor(config['model']['dv'])\n",
        "dmodel = embed_dim\n",
        "heads = torch.tensor(config['model']['n_heads'])\n",
        "d_ff = config['model']['d_ff']"
      ],
      "metadata": {
        "id": "29nA7XtsZn4t"
      },
      "execution_count": 246,
      "outputs": []
    },
    {
      "cell_type": "markdown",
      "source": [
        "##Multi-Head Attention\n",
        "\n",
        " * Be mindful when using `torch.matmul`\n",
        " * Ensure that you understood what is being computed (because matrix product is not commutative)\n",
        " * Randomly initialize the parameters using normal distribution with the following seed values\n",
        "  * $W_Q:$(seed=43)\n",
        "  * $W_K:$(seed=44)\n",
        "  * $W_V:$(seed=45)\n",
        "  * $W_O:$(seed=46)"
      ],
      "metadata": {
        "id": "vxyfd2nfZ3on"
      }
    },
    {
      "cell_type": "code",
      "source": [
        "b=True\n",
        "class MHA(nn.Module):\n",
        "\n",
        "  def __init__(self,dmodel,dq,dk,dv,heads):\n",
        "    super(MHA,self).__init__()\n",
        "    # your code goes here\n",
        "    self.dmodel = dmodel\n",
        "    self.dq = dq\n",
        "    self.dk = dk\n",
        "    self.dv = dv\n",
        "    self.heads = heads\n",
        "\n",
        "\n",
        "    # init QKV and O\n",
        "    self.W_q = nn.Linear(dmodel, dq * heads, bias=b)\n",
        "    self.W_k = nn.Linear(dmodel, dk * heads, bias=b)\n",
        "    self.W_v = nn.Linear(dmodel, dv * heads, bias=b)\n",
        "    self.W_o = nn.Linear(dv * heads, dmodel, bias=b)\n",
        "\n",
        "\n",
        "\n",
        "\n",
        "    torch.manual_seed(43)\n",
        "    nn.init.normal_(self.W_q.weight)\n",
        "    if b:\n",
        "        nn.init.normal_(self.W_q.bias)\n",
        "\n",
        "    torch.manual_seed(44)\n",
        "    nn.init.normal_(self.W_k.weight)\n",
        "    if b:\n",
        "        nn.init.normal_(self.W_k.bias)\n",
        "\n",
        "    torch.manual_seed(45)\n",
        "    nn.init.normal_(self.W_v.weight)\n",
        "    if b:\n",
        "        nn.init.normal_(self.W_v.bias)\n",
        "\n",
        "    torch.manual_seed(46)\n",
        "    nn.init.normal_(self.W_o.weight)\n",
        "    if b:\n",
        "        nn.init.normal_(self.W_o.bias)\n",
        "\n",
        "  # your method definitions go here (if you want to)\n",
        "\n",
        "  def forward(self,H=None):\n",
        "    '''\n",
        "    Input: Size [BSxTxdmodel]\n",
        "    Output: Size[BSxTxdmodel]\n",
        "    '''\n",
        "    # your code goes here\n",
        "\n",
        "    # print(H.shape,'mha input')\n",
        "\n",
        "    BS, T, _ = H.size()\n",
        "\n",
        "    # H *  Q, K, V\n",
        "    Q = self.W_q(H)\n",
        "    K = self.W_k(H)\n",
        "    V = self.W_v(H)\n",
        "\n",
        "    # print(V.shape,'qkv shape')\n",
        "\n",
        "\n",
        "    # multiple heads\n",
        "    Q = Q.view(BS, T, self.heads, self.dq).transpose(1, 2)\n",
        "    K = K.view(BS, T, self.heads, self.dk).transpose(1, 2)\n",
        "    V = V.view(BS, T, self.heads, self.dv).transpose(1, 2)\n",
        "    # print(V.shape,'multi head qkv shape')\n",
        "\n",
        "\n",
        "    #  attention\n",
        "    scores = torch.matmul(Q, K.transpose(-2,-1)) / (self.dk ** 0.5)\n",
        "    # print(scores.shape,'scores shape')\n",
        "    attn_weights = F.softmax(scores, dim=-1)\n",
        "    # print(attn_weights.shape,'attention weights')\n",
        "    context = torch.matmul(attn_weights, V)\n",
        "    # print(context.shape,'context shape')\n",
        "\n",
        "    # concat\n",
        "    context = context.transpose(1, 2).contiguous().view(BS, T, self.dv*self.heads)\n",
        "\n",
        "    # output\n",
        "    out = self.W_o(context)\n",
        "    return out"
      ],
      "metadata": {
        "id": "GEihgqiTZ0E_"
      },
      "execution_count": 247,
      "outputs": []
    },
    {
      "cell_type": "markdown",
      "source": [
        "## Pointwise FFN\n",
        "\n",
        "* Randomly initialize the parameters using normal distribution with the following seed values\n",
        "  * $W_{1}:$(seed=47)\n",
        "  * $W_2:$(seed=48)  "
      ],
      "metadata": {
        "id": "B7XgQNSRwO0J"
      }
    },
    {
      "cell_type": "code",
      "source": [
        "class FFN(nn.Module):\n",
        "  def __init__(self,dmodel,d_ff,layer=0):\n",
        "    super(FFN,self).__init__()\n",
        "    #your code goes here\n",
        "    #layers\n",
        "    self.fc1 = nn.Linear(dmodel, d_ff, bias=b)\n",
        "    self.fc2 = nn.Linear(d_ff, dmodel, bias=b)\n",
        "\n",
        "    # init\n",
        "    torch.manual_seed(47)\n",
        "    nn.init.normal_(self.fc1.weight)\n",
        "    if b:\n",
        "        nn.init.normal_(self.fc1.bias)\n",
        "\n",
        "    torch.manual_seed(48)\n",
        "    nn.init.normal_(self.fc2.weight)\n",
        "    if b:\n",
        "        nn.init.normal_(self.fc2.bias)\n",
        "\n",
        "\n",
        "  def forward(self,x):\n",
        "    '''\n",
        "    input: size [BSxTxdmodel]\n",
        "    output: size [BSxTxdmodel]\n",
        "    '''\n",
        "    #your code goes here\n",
        "    out = self.fc1(x)\n",
        "    out = F.relu(out)\n",
        "    out = self.fc2(out)\n",
        "    return out"
      ],
      "metadata": {
        "id": "InQxHsqUv9b6"
      },
      "execution_count": 248,
      "outputs": []
    },
    {
      "cell_type": "markdown",
      "source": [
        "## Output Layer\n",
        "\n",
        "* Randomly initialize the linear layer\n",
        " * $W_L:$(seed=49)\n"
      ],
      "metadata": {
        "id": "Y2-ALRSRwVxC"
      }
    },
    {
      "cell_type": "code",
      "source": [
        "class OutputLayer(nn.Module):\n",
        "\n",
        "  def __init__(self,dmodel,vocab_size):\n",
        "    super(OutputLayer,self).__init__()\n",
        "    # your code goes here\n",
        "\n",
        "    self.proj = nn.Linear(dmodel, vocab_size,bias=b)\n",
        "\n",
        "\n",
        "\n",
        "    torch.manual_seed(49)\n",
        "    nn.init.normal_(self.proj.weight)\n",
        "    if b:\n",
        "      nn.init.normal_(self.proj.bias)\n",
        "\n",
        "\n",
        "  def forward(self,representations):\n",
        "    '''\n",
        "    input: size [bsxTxdmodel]\n",
        "    output: size [bsxTxvocab_size]\n",
        "    Note: Do not apply the softmax. Just return the output of linear transformation\n",
        "    '''\n",
        "    out = self.proj(representations)\n",
        "    return out"
      ],
      "metadata": {
        "id": "25yaAbKHwXNb"
      },
      "execution_count": 249,
      "outputs": []
    },
    {
      "cell_type": "markdown",
      "source": [
        "## Encoder Layer"
      ],
      "metadata": {
        "id": "7bD8YU5Ww2eF"
      }
    },
    {
      "cell_type": "code",
      "source": [
        "class EncoderLayer(nn.Module):\n",
        "\n",
        "  def __init__(self,dmodel,dq,dk,dv,d_ff,heads):\n",
        "    super(EncoderLayer,self).__init__()\n",
        "    self.mha = MHA(dmodel,dq,dk,dv,heads)\n",
        "    self.layer_norm_mha = torch.nn.LayerNorm(dmodel)\n",
        "    self.layer_norm_ffn = torch.nn.LayerNorm(dmodel)\n",
        "    self.ffn = FFN(dmodel,d_ff)\n",
        "\n",
        "  def forward(self,x):\n",
        "\n",
        "\n",
        "    # print(x.shape,'encoder input')\n",
        "    attn_out = self.mha(x)\n",
        "    # print('mha output created')\n",
        "\n",
        "\n",
        "    x = self.layer_norm_mha(x + attn_out)\n",
        "    ffn_out = self.ffn(x)\n",
        "    out = self.layer_norm_ffn(x + ffn_out)\n",
        "\n",
        "\n",
        "    return out"
      ],
      "metadata": {
        "id": "gCHDYAKWwz4r"
      },
      "execution_count": 250,
      "outputs": []
    },
    {
      "cell_type": "markdown",
      "source": [
        "## Model with one encoder layer\n",
        "\n",
        " * The encoders' forward function accepts the token_ids as input\n",
        " * Generate the embeddings for the token ids by initializing the emebedding weights from normal distribution by setting the seed value to 50\n",
        " * Use `torch.nn.Embed()` to generate required embeddings"
      ],
      "metadata": {
        "id": "wrZ84eSyxYfE"
      }
    },
    {
      "cell_type": "code",
      "source": [
        "class Encoder(nn.Module):\n",
        "\n",
        "  def __init__(self,vocab_size,embed_dim,dq,dk,dv,d_ff,heads):\n",
        "    super(Encoder,self).__init__()\n",
        "    # your code goes here\n",
        "\n",
        "\n",
        "    self.embedding = nn.Embedding(vocab_size, embed_dim)\n",
        "    torch.manual_seed(50)\n",
        "    nn.init.normal_(self.embedding.weight)\n",
        "\n",
        "    # encoder block\n",
        "    self.layer = EncoderLayer(embed_dim, dq, dk, dv, d_ff, heads)\n",
        "\n",
        "    # outout layer\n",
        "    self.output_layer = OutputLayer(embed_dim, vocab_size)\n",
        "\n",
        "\n",
        "  def forward(self,x):\n",
        "    print(x.shape,'token_ids')\n",
        "    '''\n",
        "    The input should be tokens ids of size [BS,T]\n",
        "    '''\n",
        "    # create embeddings\n",
        "    out = self.embedding(x)\n",
        "\n",
        "    print(out.shape,'embeddings')\n",
        "\n",
        "    # forward pass\n",
        "    out = self.layer(out)\n",
        "\n",
        "    # output\n",
        "    out = self.output_layer(out)\n",
        "\n",
        "    return out"
      ],
      "metadata": {
        "id": "WctNu-Z-w5rd"
      },
      "execution_count": 251,
      "outputs": []
    },
    {
      "cell_type": "code",
      "source": [
        "model = Encoder(vocab_size,dmodel,dq,dk,dv,d_ff,heads)\n",
        "optimizer = optim.SGD(model.parameters(), lr=0.01)\n",
        "criterion = nn.CrossEntropyLoss()"
      ],
      "metadata": {
        "id": "owqyMc_Fxghn"
      },
      "execution_count": 252,
      "outputs": []
    },
    {
      "cell_type": "markdown",
      "source": [
        "# Training the model\n",
        "\n",
        " * Train the model for 30 epochs and compute the loss"
      ],
      "metadata": {
        "id": "Wmgf_oYl6hr0"
      }
    },
    {
      "cell_type": "code",
      "source": [
        "import sys\n",
        "import os\n",
        "import contextlib\n",
        "\n",
        "def train(token_ids,epochs=None):\n",
        "  global final_loss\n",
        "  for epoch in range(epochs):\n",
        "\n",
        "    with open(os.devnull, 'w') as f, contextlib.redirect_stdout(f):\n",
        "        print(token_ids.shape,'input to model')\n",
        "        out = model(token_ids)\n",
        "\n",
        "\n",
        "        print(out.shape)\n",
        "    loss = F.cross_entropy(out.view(-1, out.size(-1)), token_ids.view(-1))\n",
        "    # print(loss,'loss')\n",
        "    final_loss=float(loss)\n",
        "    loss.backward()\n",
        "\n",
        "\n",
        "\n",
        "    optimizer.step()\n",
        "    optimizer.zero_grad()\n",
        "\n",
        "pprint(config)\n",
        "train(token_ids,30)"
      ],
      "metadata": {
        "id": "Ebgg-hwGxxv4",
        "colab": {
          "base_uri": "https://localhost:8080/"
        },
        "outputId": "30cb1997-3f1f-4406-c6df-eec43c39c0e9"
      },
      "execution_count": 253,
      "outputs": [
        {
          "output_type": "stream",
          "name": "stdout",
          "text": [
            "{'input': {'batch_size': 10, 'embed_dim': 32, 'seq_len': 8, 'vocab_size': 10},\n",
            " 'model': {'d_ff': 128,\n",
            "           'd_model': 32,\n",
            "           'dk': 4,\n",
            "           'dq': 4,\n",
            "           'dv': 4,\n",
            "           'n_heads': 8,\n",
            "           'n_layers': 6}}\n"
          ]
        }
      ]
    },
    {
      "cell_type": "markdown",
      "source": [
        "# Inference"
      ],
      "metadata": {
        "id": "WE7gk3Wj6nyn"
      }
    },
    {
      "cell_type": "code",
      "source": [
        "with torch.inference_mode():\n",
        "  predictions =  model(token_ids).argmax(dim=-1)\n",
        "\n",
        "\n",
        "out = model(token_ids)\n",
        "print(out.view(-1, out.size(-1))[0],)"
      ],
      "metadata": {
        "id": "hYSG8_HCyGbm",
        "colab": {
          "base_uri": "https://localhost:8080/"
        },
        "outputId": "2c522d4a-0754-4469-e280-210b79b8a8e2"
      },
      "execution_count": 254,
      "outputs": [
        {
          "output_type": "stream",
          "name": "stdout",
          "text": [
            "torch.Size([10, 8]) token_ids\n",
            "torch.Size([10, 8, 32]) embeddings\n",
            "torch.Size([10, 8]) token_ids\n",
            "torch.Size([10, 8, 32]) embeddings\n",
            "tensor([-2.5171,  5.6252, -7.6966,  0.5701,  5.1249, -2.4318, -5.3007,  0.4060,\n",
            "         0.3233, -5.3537], grad_fn=<SelectBackward0>)\n"
          ]
        }
      ]
    },
    {
      "cell_type": "markdown",
      "source": [
        "* See how many labels are correctly predicted"
      ],
      "metadata": {
        "id": "ORsnaC9L64U-"
      }
    },
    {
      "cell_type": "code",
      "source": [
        "print(torch.count_nonzero(token_ids==predictions))"
      ],
      "metadata": {
        "id": "w1EODJB3yJ1l",
        "colab": {
          "base_uri": "https://localhost:8080/"
        },
        "outputId": "9d73f24b-1404-4f72-e0f4-45a10d196157"
      },
      "execution_count": 255,
      "outputs": [
        {
          "output_type": "stream",
          "name": "stdout",
          "text": [
            "tensor(41)\n"
          ]
        }
      ]
    },
    {
      "cell_type": "markdown",
      "source": [
        "* The loss by now should be about 2.39 and the number of correct predictions should be about 37"
      ],
      "metadata": {
        "id": "4ifS0e81G2Hq"
      }
    },
    {
      "cell_type": "code",
      "source": [
        "print('Loss :' +str(final_loss) + ' |','Correct predictions :'+str(int(torch.count_nonzero(token_ids==predictions))))"
      ],
      "metadata": {
        "colab": {
          "base_uri": "https://localhost:8080/"
        },
        "id": "nVuTlM4D5XGw",
        "outputId": "ec8b7542-0fc0-4b04-dac6-a7c6a905a649"
      },
      "execution_count": 256,
      "outputs": [
        {
          "output_type": "stream",
          "name": "stdout",
          "text": [
            "Loss :2.373548746109009 | Correct predictions :41\n"
          ]
        }
      ]
    },
    {
      "cell_type": "markdown",
      "source": [
        "# Encoder with N Layers\n",
        "\n",
        "  * The intialized parameters in all layers are identical\n",
        "  * use ModuleList to create **deep-copies** of encoder layer"
      ],
      "metadata": {
        "id": "hZm-fFLRyTRO"
      }
    },
    {
      "cell_type": "code",
      "source": [
        "import copy"
      ],
      "metadata": {
        "id": "S2k-q-HJzASs"
      },
      "execution_count": 257,
      "outputs": []
    },
    {
      "cell_type": "code",
      "source": [
        "class Encoder(nn.Module):\n",
        "\n",
        "  def __init__(self,vocab_size,dmodel,dq,dk,dv,d_ff,heads,num_layers=2):\n",
        "    super(Encoder,self).__init__()\n",
        "    self.embed_weights = nn.Embedding(vocab_size, embed_dim)\n",
        "    self.enc_layers = nn.ModuleList([\n",
        "        EncoderLayer(embed_dim, dq, dk, dv, d_ff, heads)\n",
        "        for _ in range(num_layers)\n",
        "    ])\n",
        "    self.output_layer = OutputLayer(embed_dim, vocab_size)\n",
        "\n",
        "  def get_embeddings(self, x):\n",
        "      return self.embed_weights(x)\n",
        "\n",
        "  def forward(self,x):\n",
        "    '''\n",
        "    1. Get embeddings\n",
        "    2. Pass it through encoder layer-1 and recursively pass the output to subsequent enc.layers\n",
        "    3. output the logits\n",
        "    '''\n",
        "\n",
        "    out = self.embed_weights(x)\n",
        "\n",
        "\n",
        "    for layer in self.enc_layers:\n",
        "        out = layer(out)\n",
        "\n",
        "    out = self.output_layer(out)\n",
        "    return out\n",
        "\n"
      ],
      "metadata": {
        "id": "4c3LdS8AyU0K"
      },
      "execution_count": 258,
      "outputs": []
    },
    {
      "cell_type": "markdown",
      "source": [
        "* Train the stack of encoder layers with `num_layers=2` for the same 30 epochs"
      ],
      "metadata": {
        "id": "7E4xZxWi8XtV"
      }
    },
    {
      "cell_type": "code",
      "source": [
        "model = Encoder(vocab_size,dmodel,dq,dk,dv,d_ff,heads,num_layers=2)\n",
        "criterion = nn.CrossEntropyLoss()\n",
        "optimizer = optim.SGD(model.parameters(), lr=0.01)"
      ],
      "metadata": {
        "id": "ErrBXMf_zL5g"
      },
      "execution_count": 259,
      "outputs": []
    },
    {
      "cell_type": "code",
      "source": [
        "\n",
        "def train(token_ids,epochs=None):\n",
        "  global final_loss\n",
        "  for epoch in range(epochs):\n",
        "\n",
        "    with open(os.devnull, 'w') as f, contextlib.redirect_stdout(f):\n",
        "      out = model(token_ids)\n",
        "\n",
        "\n",
        "    loss = F.cross_entropy(out.view(-1, out.size(-1)), token_ids.view(-1))\n",
        "    # print(loss,'loss')\n",
        "    final_loss = float(loss)\n",
        "    loss.backward()\n",
        "\n",
        "\n",
        "    optimizer.step()\n",
        "    optimizer.zero_grad()\n"
      ],
      "metadata": {
        "id": "BeCyhBBmzY5d"
      },
      "execution_count": 260,
      "outputs": []
    },
    {
      "cell_type": "code",
      "source": [
        "train(token_ids,30)"
      ],
      "metadata": {
        "id": "56s6UoRPzgMn"
      },
      "execution_count": 261,
      "outputs": []
    },
    {
      "cell_type": "code",
      "source": [
        "with torch.inference_mode():\n",
        "  predictions = model(token_ids).argmax(dim=-1)"
      ],
      "metadata": {
        "id": "lWl0YGbI0Dy3"
      },
      "execution_count": 262,
      "outputs": []
    },
    {
      "cell_type": "code",
      "source": [
        "torch.count_nonzero(predictions==token_ids)"
      ],
      "metadata": {
        "id": "llZyhTY20JOQ",
        "colab": {
          "base_uri": "https://localhost:8080/"
        },
        "outputId": "527750c3-6725-4c4c-c2b9-ec5f3c7247de"
      },
      "execution_count": 263,
      "outputs": [
        {
          "output_type": "execute_result",
          "data": {
            "text/plain": [
              "tensor(42)"
            ]
          },
          "metadata": {},
          "execution_count": 263
        }
      ]
    },
    {
      "cell_type": "markdown",
      "source": [
        "* Now, the loss value should be about 1.9 and the number of correct preditions is about 38"
      ],
      "metadata": {
        "id": "aZkfYjpnLwax"
      }
    },
    {
      "cell_type": "code",
      "source": [
        "# print(final_loss,torch.count_nonzero(predictions==token_ids) )\n",
        "\n",
        "print('Loss :' +str(final_loss) + ' |','correct predictions :'+str(int(torch.count_nonzero(token_ids==predictions))))"
      ],
      "metadata": {
        "colab": {
          "base_uri": "https://localhost:8080/"
        },
        "id": "3psPUxNU5vbz",
        "outputId": "ebcbeb08-288f-4c4b-d8c6-62bab20c3601"
      },
      "execution_count": 264,
      "outputs": [
        {
          "output_type": "stream",
          "name": "stdout",
          "text": [
            "Loss :1.8404735326766968 | correct predictions :42\n"
          ]
        }
      ]
    },
    {
      "cell_type": "markdown",
      "source": [
        "## Count Number of Parameters"
      ],
      "metadata": {
        "id": "YJHxAYffFlVK"
      }
    },
    {
      "cell_type": "code",
      "source": [
        "total_num_parameters=0\n",
        "for parameter in model.parameters():\n",
        "  total_num_parameters += parameter.numel()\n",
        "\n",
        "print('total number of parameters in the model \\n including the embedding layer is:', total_num_parameters)"
      ],
      "metadata": {
        "id": "7xrviY4PFoHu",
        "colab": {
          "base_uri": "https://localhost:8080/"
        },
        "outputId": "b0c76ff7-36bb-4288-bd66-74608bb09367"
      },
      "execution_count": 265,
      "outputs": [
        {
          "output_type": "stream",
          "name": "stdout",
          "text": [
            "total number of parameters in the model \n",
            " including the embedding layer is: 26058\n"
          ]
        }
      ]
    },
    {
      "cell_type": "markdown",
      "source": [
        "## (Optional) Positional Encoding\n",
        "\n",
        " * We now use the positional embedding as defined in the [paper](https://arxiv.org/pdf/1706.03762v1.pdf) (differs a bit from the lecture).\n",
        " * Note that, the positional encoding for each position is fixed (not a learnable parameter)\n",
        " * However, we add this with the raw_embeddings which are learnable.\n",
        " * Therefore, it is important to create a class definition for PE and register PE parameters in the buffer (in case we move the model to GPU)\n",
        " * Just create a matrix of same size of input and add it to the embeddings"
      ],
      "metadata": {
        "id": "EVZhnRymGU4r"
      }
    },
    {
      "cell_type": "code",
      "source": [
        "import math\n",
        "class PositionalEncoding(nn.Module):\n",
        "    \"Implement the PE function.\"\n",
        "\n",
        "    def __init__(self,d_model,max_len=8):\n",
        "        super(PositionalEncoding, self).__init__()\n",
        "\n",
        "\n",
        "        pe = torch.zeros(max_len, d_model)\n",
        "\n",
        "        pos = torch.arange(0, max_len, dtype=torch.float).unsqueeze(1)\n",
        "\n",
        "        # print(pos)\n",
        "\n",
        "\n",
        "        i = torch.arange(0, d_model // 2, dtype=torch.float)\n",
        "\n",
        "        # print(i)\n",
        "\n",
        "        div_term = torch.pow(math.log(10000.0), (2 * i) / d_model)\n",
        "\n",
        "        # print(div_term)\n",
        "\n",
        "        angle_rates = pos / div_term\n",
        "\n",
        "        print(pe.shape)\n",
        "\n",
        "\n",
        "        pe[:, 0::2] = torch.sin(pos / div_term)  # even dims\n",
        "        pe[:, 1::2] = torch.cos(pos / div_term)  # odd dims\n",
        "\n",
        "        # print(pe.shape)\n",
        "\n",
        "        pe = pe.unsqueeze(0)\n",
        "        print(pe.shape)\n",
        "\n",
        "        self.register_buffer('pe', pe)\n",
        "\n",
        "\n",
        "    def forward(self, x):\n",
        "\n",
        "\n",
        "        seq_len = x.size(1)\n",
        "        x = x + self.pe[:, :seq_len, :]\n",
        "        return x\n"
      ],
      "metadata": {
        "id": "kMyJFoEpFqnR"
      },
      "execution_count": 266,
      "outputs": []
    },
    {
      "cell_type": "code",
      "source": [
        "embeddings = model.get_embeddings(token_ids)\n"
      ],
      "metadata": {
        "id": "0blz2AiFAyME"
      },
      "execution_count": 267,
      "outputs": []
    },
    {
      "cell_type": "code",
      "source": [
        "embeddings.shape"
      ],
      "metadata": {
        "colab": {
          "base_uri": "https://localhost:8080/"
        },
        "id": "VZDf_gw-2ao-",
        "outputId": "f782ff5a-b1c4-4dab-fe4d-d2471e8df4a0"
      },
      "execution_count": 268,
      "outputs": [
        {
          "output_type": "execute_result",
          "data": {
            "text/plain": [
              "torch.Size([10, 8, 32])"
            ]
          },
          "metadata": {},
          "execution_count": 268
        }
      ]
    },
    {
      "cell_type": "code",
      "source": [
        "pe = PositionalEncoding(32)\n",
        "\n",
        "pe(embeddings).shape"
      ],
      "metadata": {
        "colab": {
          "base_uri": "https://localhost:8080/"
        },
        "id": "jNoLaMlLB-Vt",
        "outputId": "b9d65430-217b-488e-a609-6db2cdd53b44"
      },
      "execution_count": 269,
      "outputs": [
        {
          "output_type": "stream",
          "name": "stdout",
          "text": [
            "torch.Size([8, 32])\n",
            "torch.Size([1, 8, 32])\n"
          ]
        },
        {
          "output_type": "execute_result",
          "data": {
            "text/plain": [
              "torch.Size([10, 8, 32])"
            ]
          },
          "metadata": {},
          "execution_count": 269
        }
      ]
    },
    {
      "cell_type": "markdown",
      "source": [
        "# Visualize no encode vs  pos encoded"
      ],
      "metadata": {
        "id": "mnyPzW1sA2JX"
      }
    },
    {
      "cell_type": "code",
      "source": [
        "flat_embeddings = embeddings.view(-1, 32)\n",
        "\n",
        "from sklearn.decomposition import PCA\n",
        "\n",
        "pca = PCA(n_components=3)\n",
        "\n",
        "embeddings_3d = pca.fit_transform(flat_embeddings.detach().cpu().numpy())\n",
        "\n",
        "import matplotlib.pyplot as plt\n",
        "from mpl_toolkits.mplot3d import Axes3D\n",
        "\n",
        "fig = plt.figure(figsize=(8, 6))\n",
        "ax = fig.add_subplot(111, projection='3d')\n",
        "x, y, z = embeddings_3d[:, 0], embeddings_3d[:, 1], embeddings_3d[:, 2]\n",
        "ax.scatter(x, y, z, c='blue', marker='o')\n",
        "\n",
        "ax.set_title('Token Embeddings (PCA to 3D)')\n",
        "plt.show()\n"
      ],
      "metadata": {
        "colab": {
          "base_uri": "https://localhost:8080/",
          "height": 521
        },
        "id": "KHCR7Qn_CL3U",
        "outputId": "0f447bbb-0b43-4e26-fc7b-50a2941164b0"
      },
      "execution_count": 270,
      "outputs": [
        {
          "output_type": "display_data",
          "data": {
            "text/plain": [
              "<Figure size 800x600 with 1 Axes>"
            ],
            "image/png": "[encoded data removed]"
          },
          "metadata": {}
        }
      ]
    },
    {
      "cell_type": "code",
      "source": [
        "flat_embeddings = pe(embeddings).view(-1, 32)\n",
        "\n",
        "from sklearn.decomposition import PCA\n",
        "\n",
        "pca = PCA(n_components=3)\n",
        "\n",
        "embeddings_3d = pca.fit_transform(flat_embeddings.detach().cpu().numpy())\n",
        "\n",
        "import matplotlib.pyplot as plt\n",
        "from mpl_toolkits.mplot3d import Axes3D\n",
        "\n",
        "fig = plt.figure(figsize=(8, 6))\n",
        "ax = fig.add_subplot(111, projection='3d')\n",
        "x, y, z = embeddings_3d[:, 0], embeddings_3d[:, 1], embeddings_3d[:, 2]\n",
        "ax.scatter(x, y, z, c='blue', marker='o')\n",
        "ax.set_title('Token Embeddings (PCA to 3D)')\n",
        "plt.show()\n"
      ],
      "metadata": {
        "colab": {
          "base_uri": "https://localhost:8080/",
          "height": 523
        },
        "id": "qehRvoF36LKQ",
        "outputId": "f42ca187-4b49-4c24-e42c-ebe754a6c5e9"
      },
      "execution_count": 271,
      "outputs": [
        {
          "output_type": "display_data",
          "data": {
            "text/plain": [
              "<Figure size 800x600 with 1 Axes>"
            ],
            "image/png": "[encoded data removed]"
          },
          "metadata": {}
        }
      ]
    }
  ]
}